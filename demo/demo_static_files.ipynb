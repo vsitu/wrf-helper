{
 "cells": [
  {
   "cell_type": "markdown",
   "id": "35390149-cb6a-4a06-9da2-32cd093bafcb",
   "metadata": {},
   "source": [
    "# For WRF v4 and above"
   ]
  },
  {
   "cell_type": "code",
   "execution_count": 1,
   "id": "c01a2b56-14f5-4609-9988-e1d3e0042038",
   "metadata": {},
   "outputs": [],
   "source": [
    "import random, urllib\n",
    "import sys, os\n",
    "import requests"
   ]
  },
  {
   "cell_type": "code",
   "execution_count": 2,
   "id": "059b9b43-80ee-4feb-830a-40acb970b421",
   "metadata": {},
   "outputs": [],
   "source": [
    "def check_file_status(filepath, filesize):\n",
    "    sys.stdout.write('\\r')\n",
    "    sys.stdout.flush()\n",
    "    size = int(os.stat(filepath).st_size)\n",
    "    percent_complete = (size/filesize)*100\n",
    "    sys.stdout.write('%.3f %s' % (percent_complete, '% Completed'))\n",
    "    sys.stdout.flush()"
   ]
  },
  {
   "cell_type": "code",
   "execution_count": 3,
   "id": "e04504cc-1bab-49a8-b665-1e3414b3cff8",
   "metadata": {},
   "outputs": [],
   "source": [
    "with open('../config/static_data/wrf_static1.txt','r') as fp:\n",
    "    flist = fp.readlines()\n",
    "flist = [f.strip('\\n') for f in flist]\n",
    "flist.sort()"
   ]
  },
  {
   "cell_type": "code",
   "execution_count": 4,
   "id": "b41607be-406f-494e-9258-6eaf7efd42bd",
   "metadata": {},
   "outputs": [
    {
     "name": "stdout",
     "output_type": "stream",
     "text": [
      "100.000 % Completed"
     ]
    }
   ],
   "source": [
    "save_dir = f'D:/temp/wrf/soil/'\n",
    "os.makedirs(save_dir, exist_ok = True)\n",
    "\n",
    "for url in flist:\n",
    "    if 'soiltype_top_30s' not in url:   # 选择需要下载的数据 \n",
    "        continue\n",
    "    file_base = os.path.basename(url)\n",
    "    output_file = os.path.join(save_dir, file_base)\n",
    "    if os.path.exists(output_file):\n",
    "        print('Already exists')\n",
    "        continue\n",
    "        \n",
    "    req = requests.get(url, allow_redirects=True, stream=True)\n",
    "    filesize = int(req.headers['Content-Length'].split('/')[-1])\n",
    "    \n",
    "    with open(output_file, 'wb') as outfile:\n",
    "        chunk_size=1048576\n",
    "        for chunk in req.iter_content(chunk_size=chunk_size):\n",
    "            outfile.write(chunk)\n",
    "            if chunk_size < filesize:\n",
    "                check_file_status(output_file, filesize)\n",
    "    check_file_status(output_file, filesize)"
   ]
  },
  {
   "cell_type": "code",
   "execution_count": null,
   "id": "b6264c9a-5327-4f96-a43f-cb80bc6cdb49",
   "metadata": {},
   "outputs": [],
   "source": []
  }
 ],
 "metadata": {
  "kernelspec": {
   "display_name": "Python 3 (ipykernel)",
   "language": "python",
   "name": "python3"
  },
  "language_info": {
   "codemirror_mode": {
    "name": "ipython",
    "version": 3
   },
   "file_extension": ".py",
   "mimetype": "text/x-python",
   "name": "python",
   "nbconvert_exporter": "python",
   "pygments_lexer": "ipython3",
   "version": "3.10.4"
  }
 },
 "nbformat": 4,
 "nbformat_minor": 5
}
