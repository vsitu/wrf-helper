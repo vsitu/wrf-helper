{
 "cells": [
  {
   "cell_type": "code",
   "execution_count": 2,
   "id": "27307da6-c9b5-4b63-b4e0-6bd69b942039",
   "metadata": {},
   "outputs": [],
   "source": [
    "import random, urllib\n",
    "import sys, os\n",
    "import requests\n",
    "import json\n",
    "import datetime as dt"
   ]
  },
  {
   "cell_type": "code",
   "execution_count": null,
   "id": "72694bc4-00e2-446d-aa0b-521fffe9905f",
   "metadata": {},
   "outputs": [],
   "source": [
    "url = 'https://rda.ucar.edu/cgi-bin/login'\n",
    "values = {'email' : '$YOUR_EMAIL', 'passwd' : '$YOUR_PASSWORD', 'action' : 'login'}\n",
    "# Authenticate\n",
    "ret = requests.post(url,data=values)\n",
    "if ret.status_code != 200:\n",
    "    print('Bad Authentication')\n",
    "    print(ret.text)\n",
    "    exit(1)"
   ]
  },
  {
   "cell_type": "markdown",
   "id": "d2395ba5-deda-48c5-bce0-62d52f193304",
   "metadata": {},
   "source": [
    "# Generate GFS forecast data urls"
   ]
  },
  {
   "cell_type": "code",
   "execution_count": 3,
   "id": "39a2faaf-c544-44c3-9718-f1c4b28ee5d9",
   "metadata": {},
   "outputs": [],
   "source": [
    "url_base = 'https://rda.ucar.edu/data/ds084.1/'\n",
    "with open('D:/github/wrf-helper/config/nl.conf','r') as fp:\n",
    "    nl_dict = json.load(fp)"
   ]
  },
  {
   "cell_type": "code",
   "execution_count": 4,
   "id": "f6082b3c-4ece-4834-a32c-2a7b7bf6aed9",
   "metadata": {},
   "outputs": [],
   "source": [
    "interval_hours = int(nl_dict['interval_hours'])\n",
    "if (interval_hours <= 0) or (interval_hours % 3 != 0):\n",
    "    raise ValueError ('check interval hours setting')\n",
    "if interval_hours > 384:\n",
    "    raise ValueError ('interval hours > 384')\n",
    "date_start = dt.datetime.strptime(nl_dict['date_start'], '%Y-%m-%d_%H:%M:%S')\n",
    "date_end = dt.datetime.strptime(nl_dict['date_end'], '%Y-%m-%d_%H:%M:%S')"
   ]
  },
  {
   "cell_type": "code",
   "execution_count": 5,
   "id": "d4e52f1a-0481-48e5-9b36-91afca30d518",
   "metadata": {},
   "outputs": [
    {
     "name": "stdout",
     "output_type": "stream",
     "text": [
      "cycle:  00\n",
      "starting hour:  0\n"
     ]
    }
   ],
   "source": [
    "hour1 = date_start.hour\n",
    "if hour1 < 6:\n",
    "    tz = '00'\n",
    "    f0 = hour1 \n",
    "elif hour1 < 12:\n",
    "    tz = '06'\n",
    "    f0 = hour1 - 6\n",
    "elif hour1 < 18:\n",
    "    tz = '12'\n",
    "    f0 = hour1 - 12\n",
    "elif hour1 < 24:\n",
    "    tz = '18'\n",
    "    f0 = hour1 - 18\n",
    "\n",
    "hour_count = date_end - date_start\n",
    "print('cycle: ', tz)\n",
    "print('starting hour: ', f0)"
   ]
  },
  {
   "cell_type": "code",
   "execution_count": 6,
   "id": "dae06d3e-b3f7-45ff-ac44-62bb96e4cc54",
   "metadata": {},
   "outputs": [],
   "source": [
    "year = date_start.year\n",
    "ymd = dt.datetime.strftime(date_start, '%Y%m%d')\n",
    "duration = date_end - date_start\n",
    "total_hours = int(duration.seconds / 3600)\n",
    "fc_hours = [i for i in range(f0, f0+total_hours+1, interval_hours)]"
   ]
  },
  {
   "cell_type": "code",
   "execution_count": 7,
   "id": "b47dcf07-7404-4d22-906c-52ca987c7982",
   "metadata": {},
   "outputs": [],
   "source": [
    "url_list = []\n",
    "for h in fc_hours:\n",
    "    link = f'{year}/{ymd}/gfs.0p25.{ymd}{tz}.f{h:03d}.grib2'\n",
    "    url_list.append(os.path.join(url_base, link))"
   ]
  },
  {
   "cell_type": "code",
   "execution_count": 8,
   "id": "d5c11ba1-3b68-4224-94c7-f2804dd55cc7",
   "metadata": {},
   "outputs": [
    {
     "data": {
      "text/plain": [
       "['https://rda.ucar.edu/data/ds084.1/2017/20170620/gfs.0p25.2017062000.f000.grib2',\n",
       " 'https://rda.ucar.edu/data/ds084.1/2017/20170620/gfs.0p25.2017062000.f003.grib2',\n",
       " 'https://rda.ucar.edu/data/ds084.1/2017/20170620/gfs.0p25.2017062000.f006.grib2',\n",
       " 'https://rda.ucar.edu/data/ds084.1/2017/20170620/gfs.0p25.2017062000.f009.grib2',\n",
       " 'https://rda.ucar.edu/data/ds084.1/2017/20170620/gfs.0p25.2017062000.f012.grib2']"
      ]
     },
     "execution_count": 8,
     "metadata": {},
     "output_type": "execute_result"
    }
   ],
   "source": [
    "url_list"
   ]
  },
  {
   "cell_type": "code",
   "execution_count": null,
   "id": "190c1376-11c2-4971-8011-05e42cf9a67a",
   "metadata": {},
   "outputs": [],
   "source": []
  }
 ],
 "metadata": {
  "kernelspec": {
   "display_name": "Python 3 (ipykernel)",
   "language": "python",
   "name": "python3"
  },
  "language_info": {
   "codemirror_mode": {
    "name": "ipython",
    "version": 3
   },
   "file_extension": ".py",
   "mimetype": "text/x-python",
   "name": "python",
   "nbconvert_exporter": "python",
   "pygments_lexer": "ipython3",
   "version": "3.10.4"
  }
 },
 "nbformat": 4,
 "nbformat_minor": 5
}
