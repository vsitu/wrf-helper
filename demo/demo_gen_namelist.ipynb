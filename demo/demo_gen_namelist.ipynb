{
 "cells": [
  {
   "cell_type": "code",
   "execution_count": 1,
   "id": "48f78868-c7a4-4326-966d-9e3590795738",
   "metadata": {},
   "outputs": [],
   "source": [
    "import os, sys\n",
    "sys.path.append('D:/github/wrf-helper/')\n",
    "\n",
    "import json\n",
    "\n",
    "from config.nlgen_wps import interpret_wps\n",
    "from config.nlgen_wrf import interpret_wrf"
   ]
  },
  {
   "cell_type": "code",
   "execution_count": 2,
   "id": "30b4327f-103f-469a-99bc-297e09cb2d44",
   "metadata": {},
   "outputs": [],
   "source": [
    "nl_conf = 'D:/github/wrf-helper/config/nl.conf'"
   ]
  },
  {
   "cell_type": "code",
   "execution_count": 3,
   "id": "1e11deac-547f-468c-ad66-45f80498b583",
   "metadata": {},
   "outputs": [
    {
     "name": "stdout",
     "output_type": "stream",
     "text": [
      "{'domain_count': '3', 'date_start': '2017-06-20_00:00:00', 'date_end': '2017-06-20_12:00:00', 'interval_hours': '3', 'wps_output_path': '/vtmp2/ysitu/wrf/WPS/', 'wrf_output_path': '/vtmp2/ysitu/wrf_output/penman_20180101/', 'main_box': '[-2, 56, 120, 120, 3000, 3000]', 'sub_box_1': '[-2, 56, 120, 120, 3, 1]', 'sub_box_2': '[-2.1, 56.1, 100, 100, 3, 1]'}\n"
     ]
    }
   ],
   "source": [
    "with open(nl_conf,'r') as fp:\n",
    "    conf_dict = json.load(fp)\n",
    "print(conf_dict)"
   ]
  },
  {
   "cell_type": "markdown",
   "id": "2b6b95d8-f278-4bab-aafb-a1f52f55d8d4",
   "metadata": {},
   "source": [
    "# Interpret nl.conf and generate namelist.wps (for WPS) and namelist.input (for WRF)\n",
    "**the interpreters only allows some simple settings because they are for experiments with WRF where only a few settings may need to to be changed.**"
   ]
  },
  {
   "cell_type": "code",
   "execution_count": 4,
   "id": "d60b8ac3-b562-4a9b-9a65-41f7de546689",
   "metadata": {},
   "outputs": [
    {
     "name": "stdout",
     "output_type": "stream",
     "text": [
      "D1 coords: [57.617002244019254, 54.382997755980746, 1.0191822938764044, 0.776616704219236, -5.019182293876405, -4.7766167042192365] \n",
      " D2 Coords: [56.539000748006416, 55.460999251993584, -1.0224323187750655, -1.0493262029457637, -2.9775676812249348, -2.950673797054236]\n",
      "bound 1 west -4.852021391162709\n",
      "40.00000000000001 40.00000000000002\n",
      "D1 coords: [57.617002244019254, 54.382997755980746, 1.0191822938764044, 0.776616704219236, -5.019182293876405, -4.7766167042192365] \n",
      " D2 Coords: [56.54916729000535, 55.65083270999465, -1.285141480476819, -1.3039354251470785, -2.914858519523181, -2.8960645748529217]\n",
      "bound 1 west -4.865832469470519\n",
      "41.239700832509406 47.04390332307325\n"
     ]
    }
   ],
   "source": [
    "wps_outpath = 'D:/github/wrf-helper/config/namelist.wps.output'\n",
    "interpret_wps(conf_dict, wps_outpath)"
   ]
  },
  {
   "cell_type": "code",
   "execution_count": 5,
   "id": "4db2ecb9-3d22-4a49-bda9-38a57495b2b5",
   "metadata": {},
   "outputs": [
    {
     "name": "stdout",
     "output_type": "stream",
     "text": [
      "D1 coords: [57.617002244019254, 54.382997755980746, 1.0191822938764044, 0.776616704219236, -5.019182293876405, -4.7766167042192365] \n",
      " D2 Coords: [56.539000748006416, 55.460999251993584, -1.0224323187750655, -1.0493262029457637, -2.9775676812249348, -2.950673797054236]\n",
      "bound 1 west -4.852021391162709\n",
      "40.00000000000001 40.00000000000002\n",
      "D1 coords: [57.617002244019254, 54.382997755980746, 1.0191822938764044, 0.776616704219236, -5.019182293876405, -4.7766167042192365] \n",
      " D2 Coords: [56.54916729000535, 55.65083270999465, -1.285141480476819, -1.3039354251470785, -2.914858519523181, -2.8960645748529217]\n",
      "bound 1 west -4.865832469470519\n",
      "41.239700832509406 47.04390332307325\n"
     ]
    }
   ],
   "source": [
    "wrf_outpath = 'D:/github/wrf-helper/config/namelist.wrf.output'\n",
    "interpret_wrf(conf_dict, wrf_outpath)"
   ]
  },
  {
   "cell_type": "code",
   "execution_count": null,
   "id": "e4ce246a-6f14-4342-a744-19cbde689cb6",
   "metadata": {},
   "outputs": [],
   "source": []
  }
 ],
 "metadata": {
  "kernelspec": {
   "display_name": "Python 3 (ipykernel)",
   "language": "python",
   "name": "python3"
  },
  "language_info": {
   "codemirror_mode": {
    "name": "ipython",
    "version": 3
   },
   "file_extension": ".py",
   "mimetype": "text/x-python",
   "name": "python",
   "nbconvert_exporter": "python",
   "pygments_lexer": "ipython3",
   "version": "3.10.4"
  }
 },
 "nbformat": 4,
 "nbformat_minor": 5
}
